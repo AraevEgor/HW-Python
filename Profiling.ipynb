{
 "cells": [
  {
   "cell_type": "code",
   "execution_count": 1,
   "metadata": {},
   "outputs": [],
   "source": [
    "from IPython.core.interactiveshell import InteractiveShell\n",
    "InteractiveShell.ast_node_interactivity = \"all\""
   ]
  },
  {
   "cell_type": "markdown",
   "metadata": {},
   "source": [
    "### 1. Чтение/запись в словарь\n",
    "__1) Доступ по ключу через [ ]__"
   ]
  },
  {
   "cell_type": "code",
   "execution_count": 36,
   "metadata": {},
   "outputs": [
    {
     "name": "stdout",
     "output_type": "stream",
     "text": [
      "35.4 ns ± 0.0479 ns per loop (mean ± std. dev. of 7 runs, 10000000 loops each)\n",
      "30.5 ns ± 1.25 ns per loop (mean ± std. dev. of 7 runs, 10000000 loops each)\n"
     ]
    }
   ],
   "source": [
    "t_dict = {'some': 'value'}\n",
    "%timeit t_dict['another'] = 'value_'\n",
    "%timeit t_dict['another']"
   ]
  },
  {
   "cell_type": "markdown",
   "metadata": {},
   "source": [
    "__2) Метод get()__"
   ]
  },
  {
   "cell_type": "code",
   "execution_count": 37,
   "metadata": {},
   "outputs": [
    {
     "name": "stdout",
     "output_type": "stream",
     "text": [
      "56.3 ns ± 0.0177 ns per loop (mean ± std. dev. of 7 runs, 10000000 loops each)\n"
     ]
    }
   ],
   "source": [
    "%timeit t_dict.get('some')"
   ]
  },
  {
   "cell_type": "markdown",
   "metadata": {},
   "source": [
    "__3) Метод __setitem__()__"
   ]
  },
  {
   "cell_type": "code",
   "execution_count": 38,
   "metadata": {},
   "outputs": [
    {
     "name": "stdout",
     "output_type": "stream",
     "text": [
      "125 ns ± 0.0243 ns per loop (mean ± std. dev. of 7 runs, 10000000 loops each)\n"
     ]
    }
   ],
   "source": [
    "%timeit t_dict.__setitem__('new', 'value__')"
   ]
  },
  {
   "cell_type": "code",
   "execution_count": 45,
   "metadata": {},
   "outputs": [
    {
     "name": "stdout",
     "output_type": "stream",
     "text": [
      "Overwriting tmp_dict_funcs.py\n"
     ]
    }
   ],
   "source": [
    "%%writefile tmp_dict_funcs.py\n",
    "from memory_profiler import profile\n",
    "\n",
    "@profile\n",
    "def get1(d, k):\n",
    "    return d[k]\n",
    "@profile\n",
    "def set1(d, k, v):\n",
    "    d[k] = v\n",
    "@profile\n",
    "def get2(d, k):\n",
    "    return d.get(k)\n",
    "@profile\n",
    "def set2(d, k, v):\n",
    "    d.__setitem__(k, v)\n",
    "    \n",
    "if __name__ == '__main__':\n",
    "    t_dict = {'some': 'value'}\n",
    "    some = 'some'\n",
    "    get1(t_dict, some)\n",
    "    get2(t_dict, some)\n",
    "    set1(t_dict, some, 1)\n",
    "    set2(t_dict, some, 1)"
   ]
  },
  {
   "cell_type": "code",
   "execution_count": 46,
   "metadata": {},
   "outputs": [
    {
     "name": "stdout",
     "output_type": "stream",
     "text": [
      "Filename: tmp_dict_funcs.py\n",
      "\n",
      "Line #    Mem usage    Increment   Line Contents\n",
      "================================================\n",
      "     3     40.1 MiB     40.1 MiB   @profile\n",
      "     4                             def get1(d, k):\n",
      "     5     40.1 MiB      0.0 MiB       return d[k]\n",
      "\n",
      "\n",
      "Filename: tmp_dict_funcs.py\n",
      "\n",
      "Line #    Mem usage    Increment   Line Contents\n",
      "================================================\n",
      "     9     40.1 MiB     40.1 MiB   @profile\n",
      "    10                             def get2(d, k):\n",
      "    11     40.1 MiB      0.0 MiB       return d.get(k)\n",
      "\n",
      "\n",
      "Filename: tmp_dict_funcs.py\n",
      "\n",
      "Line #    Mem usage    Increment   Line Contents\n",
      "================================================\n",
      "     6     40.1 MiB     40.1 MiB   @profile\n",
      "     7                             def set1(d, k, v):\n",
      "     8     40.1 MiB      0.0 MiB       d[k] = v\n",
      "\n",
      "\n",
      "Filename: tmp_dict_funcs.py\n",
      "\n",
      "Line #    Mem usage    Increment   Line Contents\n",
      "================================================\n",
      "    12     40.1 MiB     40.1 MiB   @profile\n",
      "    13                             def set2(d, k, v):\n",
      "    14     40.1 MiB      0.0 MiB       d.__setitem__(k, v)\n",
      "\n",
      "\n"
     ]
    }
   ],
   "source": [
    "!python tmp_dict_funcs.py"
   ]
  },
  {
   "cell_type": "markdown",
   "metadata": {},
   "source": [
    "### Вывод\n",
    "Обращение к методам словаря занимает больше времени, чем использование [ ]. Тяжело оценить, в силу чего это происходит, поскольку внутреннюю реализацию методов всотроенного класса и встроенных операторов я слабо представляю. "
   ]
  },
  {
   "cell_type": "markdown",
   "metadata": {},
   "source": [
    "### 2. Применение преобразования к элементам списка\n",
    "__1) Создание нового списка через list comprehension__"
   ]
  },
  {
   "cell_type": "code",
   "execution_count": 1,
   "metadata": {},
   "outputs": [
    {
     "name": "stdout",
     "output_type": "stream",
     "text": [
      "1.2 µs ± 24.6 ns per loop (mean ± std. dev. of 7 runs, 1000000 loops each)\n"
     ]
    }
   ],
   "source": [
    "def transform(l, func):\n",
    "    return [func(i) for i in l]\n",
    "\n",
    "%timeit transform([1, 2, 3], lambda x: x ** 2)"
   ]
  },
  {
   "cell_type": "code",
   "execution_count": null,
   "metadata": {},
   "outputs": [],
   "source": []
  }
 ],
 "metadata": {
  "kernelspec": {
   "display_name": "Python [conda env:epam] *",
   "language": "python",
   "name": "conda-env-epam-py"
  },
  "language_info": {
   "codemirror_mode": {
    "name": "ipython",
    "version": 3
   },
   "file_extension": ".py",
   "mimetype": "text/x-python",
   "name": "python",
   "nbconvert_exporter": "python",
   "pygments_lexer": "ipython3",
   "version": "3.8.3"
  }
 },
 "nbformat": 4,
 "nbformat_minor": 4
}
