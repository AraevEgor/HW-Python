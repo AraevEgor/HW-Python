{
 "cells": [
  {
   "cell_type": "markdown",
   "metadata": {},
   "source": [
    "### Код, который будем тестировать:"
   ]
  },
  {
   "cell_type": "code",
   "execution_count": 9,
   "metadata": {},
   "outputs": [
    {
     "name": "stdout",
     "output_type": "stream",
     "text": [
      "Writing ./tests/book_with_descriptors.py\n"
     ]
    }
   ],
   "source": [
    "# %%writefile ./tests/book_with_descriptors.py\n",
    "class PriceControl:\n",
    "    '''Descriptor class to check if a parameter is in range (0,100)'''\n",
    "    def __set_name__(self, owner, name):\n",
    "        self.name = name\n",
    "        \n",
    "    def __set__(self, instance, value):\n",
    "        if 0 <= value <= 100:\n",
    "            instance.__dict__[self.name] = value\n",
    "        else:\n",
    "            raise ValueError(f'{self.name.capitalize()} must be between 0 and 100')\n",
    "\n",
    "class NameControl:\n",
    "    '''Descriptor class that forbids resetting a parametter once it's set'''\n",
    "    def __set_name__(self, owner, name):\n",
    "        self.name = name\n",
    "        \n",
    "    def __set__(self, instance, value):\n",
    "        if self.name in instance.__dict__:\n",
    "            raise ValueError(f'{self.name.capitalize()} cannot be changed')\n",
    "        else:\n",
    "            instance.__dict__[self.name] = value\n",
    "\n",
    "class Book:\n",
    "    author = NameControl()\n",
    "    name = NameControl()\n",
    "    price = PriceControl()\n",
    "    \n",
    "    def __init__(self, author, name, price):\n",
    "        self.author = author\n",
    "        self.name = name\n",
    "        self.price = price"
   ]
  },
  {
   "cell_type": "markdown",
   "metadata": {},
   "source": [
    "### Набор тестов, проверяющих корректную работу дескрипторов:\n",
    " - Нормальное создание объекта\n",
    " - Создание объекта с параметром цены вне указанных границ\n",
    " - Изменение параметра цены у существующего объекта (в пределах границ и вне их)\n",
    " - Изменение параметров названия и имени автора"
   ]
  },
  {
   "cell_type": "code",
   "execution_count": 10,
   "metadata": {},
   "outputs": [
    {
     "name": "stdout",
     "output_type": "stream",
     "text": [
      "Writing ./tests/test_book_with_descriptors.py\n"
     ]
    }
   ],
   "source": [
    "# %%writefile ./tests/test_book_with_descriptors.py\n",
    "import pytest\n",
    "\n",
    "from book_with_descriptors import Book\n",
    "\n",
    "def test_book_construct_normal_params():\n",
    "    test_book = Book('John Johnson', 'My Book', 99)\n",
    "    \n",
    "def test_book_counstruct_price_out_of_bounds():\n",
    "    with pytest.raises(ValueError) as e:\n",
    "        test_book = Book('John Johnson', 'My Book', 199)\n",
    "    assert str(e.value) == 'Price must be between 0 and 100', 'Unexpected error message'\n",
    "    \n",
    "def test_book_change_price_positive():\n",
    "    test_book = Book('John Johnson', 'My Book', 99)\n",
    "    test_book.price = 88\n",
    "\n",
    "def test_book_change_price_out_of_bounds():\n",
    "    test_book = Book('John Johnson', 'My Book', 99)\n",
    "    with pytest.raises(ValueError) as e:\n",
    "        test_book.price = 199\n",
    "    assert str(e.value) == 'Price must be between 0 and 100', 'Unexpected error message'\n",
    "\n",
    "def test_book_change_author_forbidden():\n",
    "    test_book = Book('John Johnson', 'My Book', 99)\n",
    "    with pytest.raises(ValueError) as e:\n",
    "        test_book.author = 'John Malkovich'\n",
    "    assert str(e.value) == 'Author cannot be changed', 'Unexpected error message'\n",
    "    \n",
    "def test_book_change_name_forbidden():\n",
    "    test_book = Book('John Johnson', 'My Book', 99)\n",
    "    with pytest.raises(ValueError) as e:\n",
    "        test_book.name = 'Not My Book'\n",
    "    assert str(e.value) == 'Name cannot be changed', 'Unexpected error message'"
   ]
  },
  {
   "cell_type": "code",
   "execution_count": 11,
   "metadata": {},
   "outputs": [
    {
     "name": "stdout",
     "output_type": "stream",
     "text": [
      "============================= test session starts =============================\n",
      "platform win32 -- Python 3.8.3, pytest-5.4.3, py-1.9.0, pluggy-0.13.1\n",
      "rootdir: D:\\MEGASync\\Code\\Python\\EPAM training\n",
      "collected 6 items\n",
      "\n",
      "tests\\test_book_with_descriptors.py ......                               [100%]\n",
      "\n",
      "============================== 6 passed in 0.13s ==============================\n"
     ]
    }
   ],
   "source": [
    "!python -m pytest ./tests/test_book_with_descriptors.py"
   ]
  },
  {
   "cell_type": "code",
   "execution_count": 12,
   "metadata": {},
   "outputs": [
    {
     "name": "stdout",
     "output_type": "stream",
     "text": [
      "============================= test session starts =============================\n",
      "platform win32 -- Python 3.8.3, pytest-5.4.3, py-1.9.0, pluggy-0.13.1\n",
      "rootdir: D:\\MEGASync\\Code\\Python\\EPAM training\n",
      "collected 6 items\n",
      "\n",
      "tests\\test_book_with_descriptors.py ......                               [100%]\n",
      "\n",
      "============================== 6 passed in 0.01s ==============================\n"
     ]
    }
   ],
   "source": [
    "!coverage run -m pytest ./tests/test_book_with_descriptors.py"
   ]
  },
  {
   "cell_type": "code",
   "execution_count": 13,
   "metadata": {},
   "outputs": [
    {
     "name": "stdout",
     "output_type": "stream",
     "text": [
      "Name                                  Stmts   Miss  Cover\n",
      "---------------------------------------------------------\n",
      "tests\\book_with_descriptors.py           22      0   100%\n",
      "tests\\test_book_with_descriptors.py      26      0   100%\n",
      "---------------------------------------------------------\n",
      "TOTAL                                    48      0   100%\n"
     ]
    }
   ],
   "source": [
    "!coverage report"
   ]
  }
 ],
 "metadata": {
  "kernelspec": {
   "display_name": "Python [conda env:epam] *",
   "language": "python",
   "name": "conda-env-epam-py"
  },
  "language_info": {
   "codemirror_mode": {
    "name": "ipython",
    "version": 3
   },
   "file_extension": ".py",
   "mimetype": "text/x-python",
   "name": "python",
   "nbconvert_exporter": "python",
   "pygments_lexer": "ipython3",
   "version": "3.8.3"
  }
 },
 "nbformat": 4,
 "nbformat_minor": 4
}
